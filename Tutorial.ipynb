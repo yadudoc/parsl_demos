{
 "cells": [
  {
   "cell_type": "markdown",
   "metadata": {
    "deletable": true,
    "editable": true
   },
   "source": [
    "## Parsl Tutorial\n",
    "\n",
    "Parsl allows you to write functions that execute in parallel and tie them together with dependencies to create workflows in python. Parsl wraps python functions into Apps with the **@App** decorator. Decorated function can run in parallel when all their inputs are ready.\n",
    "\n",
    "For a deeper dive into examples and documentation, please refer our documentation [here](parsl.readthedocs.io)"
   ]
  },
  {
   "cell_type": "code",
   "execution_count": null,
   "metadata": {
    "collapsed": true,
    "deletable": true,
    "editable": true
   },
   "outputs": [],
   "source": [
    "# Import Parsl\n",
    "import parsl\n",
    "from parsl import *"
   ]
  },
  {
   "cell_type": "markdown",
   "metadata": {
    "deletable": true,
    "editable": true
   },
   "source": [
    "Parsl's DataFlowKernel acts as a layer over any pool of execution resources, in our case a pool of [threads](https://en.wikipedia.org/wiki/Thread_(computing)."
   ]
  },
  {
   "cell_type": "code",
   "execution_count": null,
   "metadata": {
    "collapsed": true,
    "deletable": true,
    "editable": true
   },
   "outputs": [],
   "source": [
    "# Let's create a pool of threads to execute our functions\n",
    "workers = ThreadPoolExecutor(max_workers=4)\n",
    "# We pass the workers to the DataFlowKernel which will execute our Apps over the workers.\n",
    "dfk = DataFlowKernel(workers)"
   ]
  },
  {
   "cell_type": "markdown",
   "metadata": {
    "deletable": true,
    "editable": true
   },
   "source": [
    "### Hello World App\n",
    "\n",
    "Let's define a simple python function that returns the string 'Hello World!'. This function is made an App using the **@App** decorator. The decorator itself takes the type of app ('python'|'bash') and the DataFlowKernel object as arguments."
   ]
  },
  {
   "cell_type": "code",
   "execution_count": null,
   "metadata": {
    "collapsed": false,
    "deletable": true,
    "editable": true
   },
   "outputs": [],
   "source": [
    "# Here we define our first App function, a simple python app that returns a string\n",
    "@App('python', dfk)\n",
    "def hello ():\n",
    "    return 'Hello World!'\n",
    "\n",
    "app_future = hello()"
   ]
  },
  {
   "cell_type": "markdown",
   "metadata": {
    "deletable": true,
    "editable": true
   },
   "source": [
    "### Futures\n",
    "\n",
    "Unlike a regular python function, when an App is called it returns an AppFuture. [Futures](https://en.wikipedia.org/wiki/Futures_and_promises) act as a proxy to the results or exceptions that the App will produce once its execution completes. You can ask a future object its status with future.done() or ask it to wait for its result with the result() call. It is important to note that while the done() call just gives you the current status, the result() call blocks execution till the App is complete and the result is available."
   ]
  },
  {
   "cell_type": "code",
   "execution_count": null,
   "metadata": {
    "collapsed": false,
    "deletable": true,
    "editable": true
   },
   "outputs": [],
   "source": [
    "# Check status \n",
    "print(\"Status: \", app_future.done())\n",
    "\n",
    "# Get result\n",
    "print(\"Result: \", app_future.result())"
   ]
  },
  {
   "cell_type": "markdown",
   "metadata": {
    "deletable": true,
    "editable": true
   },
   "source": [
    "### Data Dependencies\n",
    "\n",
    "When a future created by an App is passed as inputs to another, a data dependency is created. Parsl ensures that Apps are executed as their dependencies are resolved. \n",
    "\n",
    "Let's see an example of this using the [monte-carlo method](https://en.wikipedia.org/wiki/Monte_Carlo_method#History) to calculate pi. We call 3 iterations of this slow function, and take the average. The dependency chain looks like this :\n",
    "\n",
    "```\n",
    "App Calls    pi()  pi()   pi()\n",
    "              \\     |     /\n",
    "Futures        a    b    c\n",
    "                \\   |   /\n",
    "App Call         mysum()\n",
    "                    |\n",
    "Future            avg_pi\n",
    "```"
   ]
  },
  {
   "cell_type": "code",
   "execution_count": null,
   "metadata": {
    "collapsed": false,
    "deletable": true,
    "editable": true
   },
   "outputs": [],
   "source": [
    "@App('python', dfk)\n",
    "def pi(total):\n",
    "    import random      # App functions have to import modules they will use.     \n",
    "    width = 10000      # Set the size of the box in which we drop random points\n",
    "    center = width/2\n",
    "    c2  = center**2\n",
    "    count = 0\n",
    "    for i in range(total):\n",
    "        # Drop a random point in the box.\n",
    "        x,y = random.randint(1, width),random.randint(1, width)\n",
    "        # Count points within the circle\n",
    "        if (x-center)**2 + (y-center)**2 < c2:\n",
    "            count += 1\n",
    "    return (count*4/total)\n",
    "\n",
    "@App('python', dfk)\n",
    "def mysum(a,b,c):\n",
    "    return (a+b+c)/3\n",
    "\n",
    "a, b, c = pi(10**6), pi(10**6), pi(10**6)\n",
    "avg_pi  = mysum(a, b, c)"
   ]
  },
  {
   "cell_type": "code",
   "execution_count": null,
   "metadata": {
    "collapsed": false,
    "deletable": true,
    "editable": true
   },
   "outputs": [],
   "source": [
    "# Print the results\n",
    "print(\"A: {0:5} B: {1:5} B: {2:5}\".format(a.result(), b.result(), c.result()))\n",
    "print(\"Average: {0:5}\".format(avg_pi.result()))"
   ]
  },
  {
   "cell_type": "markdown",
   "metadata": {
    "deletable": true,
    "editable": true
   },
   "source": [
    "### Bash Apps\n",
    "\n",
    "Science aplications often use external software that are invoked from the command line. For instance parameter sweeps with molecular dynamics software such as [LAMMPS](http://lammps.sandia.gov/) are very common. Next we will see a simple mocked up science workflow composed of bash apps.\n",
    " \n",
    "In a bash app function, there are a few special reserved keyword arguments:\n",
    "\n",
    "* inputs (List)  : A list of strings or DataFutures\n",
    "* outputs (List) : A list of output file paths\n",
    "* stdout (str) : redirects STDOUT to string filename\n",
    "* stderr (str) : redirects STDERR to string filename\n",
    "\n",
    "In addition if a list of output filenames are provided via the outputs=[], a list of DataFutures corresponding to each filename in the outputs list is returned in addition to the AppFuture."
   ]
  },
  {
   "cell_type": "code",
   "execution_count": null,
   "metadata": {
    "collapsed": false,
    "deletable": true,
    "editable": true
   },
   "outputs": [],
   "source": [
    "@App('bash', dfk)\n",
    "def sim_mol_dyn(i, dur, outputs=[], stdout=None, stderr=None):\n",
    "    # The bash app function, requires that the bash script is assigned to the special variable\n",
    "    # cmd_line. Positional and Keyword args to the fn() are formatted into the cmd_line string\n",
    "    cmd_line = '''echo \"{0}\" > {outputs[0]} \n",
    "    sleep {1}; \n",
    "    ls ;    \n",
    "    '''\n",
    "# We call sim_mol_dyn with \n",
    "sim_fut, data_futs = sim_mol_dyn(5, 3, outputs=['sim.out'], stdout='stdout.txt', stderr='stderr.txt')"
   ]
  },
  {
   "cell_type": "code",
   "execution_count": null,
   "metadata": {
    "collapsed": false,
    "deletable": true,
    "editable": true
   },
   "outputs": [],
   "source": [
    "print(sim_fut, data_futs)"
   ]
  }
 ],
 "metadata": {
  "kernelspec": {
   "display_name": "Python 3",
   "language": "python",
   "name": "python3"
  },
  "language_info": {
   "codemirror_mode": {
    "name": "ipython",
    "version": 3
   },
   "file_extension": ".py",
   "mimetype": "text/x-python",
   "name": "python",
   "nbconvert_exporter": "python",
   "pygments_lexer": "ipython3",
   "version": "3.5.2"
  }
 },
 "nbformat": 4,
 "nbformat_minor": 2
}
